import numpy as np
import matplotlib.pyplot as plt

def diamond_square(size, roughness):
    """
    Generates a 2D heightmap using the Diamond-Square algorithm.

    Parameters:
        size (int): The size of the grid (must be 2^n + 1).
        roughness (float): The roughness factor controlling terrain variation.

    Returns:
        np.ndarray: A 2D numpy array representing the heightmap.
    """
    # Initialize the grid
    grid = np.zeros((size, size))

    # Seed the corners
    grid[0, 0] = np.random.uniform(-1, 1)
    grid[0, -1] = np.random.uniform(-1, 1)
    grid[-1, 0] = np.random.uniform(-1, 1)
    grid[-1, -1] = np.random.uniform(-1, 1)

    step_size = size - 1
    scale = roughness

    while step_size > 1:
        half_step = step_size // 2

        # Diamond step
        for x in range(0, size - 1, step_size):
            for y in range(0, size - 1, step_size):
                avg = (grid[x, y] + grid[x + step_size, y] +
                       grid[x, y + step_size] + grid[x + step_size, y + step_size]) / 4.0
                grid[x + half_step, y + half_step] = avg + np.random.uniform(-scale, scale)

        # Square step
        for x in range(0, size, half_step):
            for y in range((x + half_step) % step_size, size, step_size):
                neighbors = []
                if x - half_step >= 0:
                    neighbors.append(grid[x - half_step, y])
                if x + half_step < size:
                    neighbors.append(grid[x + half_step, y])
                if y - half_step >= 0:
                    neighbors.append(grid[x, y - half_step])
                if y + half_step < size:
                    neighbors.append(grid[x, y + half_step])
                
                avg = sum(neighbors) / len(neighbors)
                grid[x, y] = avg + np.random.uniform(-scale, scale)

        # Reduce the scale for smaller steps
        step_size //= 2
        scale *= roughness

    return grid
